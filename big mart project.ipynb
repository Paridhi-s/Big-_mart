{
 "cells": [
  {
   "cell_type": "code",
   "execution_count": 1,
   "id": "cba94b3b",
   "metadata": {},
   "outputs": [
    {
     "data": {
      "text/html": [
       "<div>\n",
       "<style scoped>\n",
       "    .dataframe tbody tr th:only-of-type {\n",
       "        vertical-align: middle;\n",
       "    }\n",
       "\n",
       "    .dataframe tbody tr th {\n",
       "        vertical-align: top;\n",
       "    }\n",
       "\n",
       "    .dataframe thead th {\n",
       "        text-align: right;\n",
       "    }\n",
       "</style>\n",
       "<table border=\"1\" class=\"dataframe\">\n",
       "  <thead>\n",
       "    <tr style=\"text-align: right;\">\n",
       "      <th></th>\n",
       "      <th>Item_Identifier</th>\n",
       "      <th>Item_Weight</th>\n",
       "      <th>Item_Fat_Content</th>\n",
       "      <th>Item_Visibility</th>\n",
       "      <th>Item_Type</th>\n",
       "      <th>Item_MRP</th>\n",
       "      <th>Outlet_Identifier</th>\n",
       "      <th>Outlet_Establishment_Year</th>\n",
       "      <th>Outlet_Size</th>\n",
       "      <th>Outlet_Location_Type</th>\n",
       "      <th>Outlet_Type</th>\n",
       "      <th>Item_Outlet_Sales</th>\n",
       "    </tr>\n",
       "  </thead>\n",
       "  <tbody>\n",
       "    <tr>\n",
       "      <th>0</th>\n",
       "      <td>FDA15</td>\n",
       "      <td>9.300</td>\n",
       "      <td>Low Fat</td>\n",
       "      <td>0.016047</td>\n",
       "      <td>Dairy</td>\n",
       "      <td>249.8092</td>\n",
       "      <td>OUT049</td>\n",
       "      <td>1999</td>\n",
       "      <td>Medium</td>\n",
       "      <td>Tier 1</td>\n",
       "      <td>Supermarket Type1</td>\n",
       "      <td>3735.1380</td>\n",
       "    </tr>\n",
       "    <tr>\n",
       "      <th>1</th>\n",
       "      <td>DRC01</td>\n",
       "      <td>5.920</td>\n",
       "      <td>Regular</td>\n",
       "      <td>0.019278</td>\n",
       "      <td>Soft Drinks</td>\n",
       "      <td>48.2692</td>\n",
       "      <td>OUT018</td>\n",
       "      <td>2009</td>\n",
       "      <td>Medium</td>\n",
       "      <td>Tier 3</td>\n",
       "      <td>Supermarket Type2</td>\n",
       "      <td>443.4228</td>\n",
       "    </tr>\n",
       "    <tr>\n",
       "      <th>2</th>\n",
       "      <td>FDN15</td>\n",
       "      <td>17.500</td>\n",
       "      <td>Low Fat</td>\n",
       "      <td>0.016760</td>\n",
       "      <td>Meat</td>\n",
       "      <td>141.6180</td>\n",
       "      <td>OUT049</td>\n",
       "      <td>1999</td>\n",
       "      <td>Medium</td>\n",
       "      <td>Tier 1</td>\n",
       "      <td>Supermarket Type1</td>\n",
       "      <td>2097.2700</td>\n",
       "    </tr>\n",
       "    <tr>\n",
       "      <th>3</th>\n",
       "      <td>FDX07</td>\n",
       "      <td>19.200</td>\n",
       "      <td>Regular</td>\n",
       "      <td>0.000000</td>\n",
       "      <td>Fruits and Vegetables</td>\n",
       "      <td>182.0950</td>\n",
       "      <td>OUT010</td>\n",
       "      <td>1998</td>\n",
       "      <td>NaN</td>\n",
       "      <td>Tier 3</td>\n",
       "      <td>Grocery Store</td>\n",
       "      <td>732.3800</td>\n",
       "    </tr>\n",
       "    <tr>\n",
       "      <th>4</th>\n",
       "      <td>NCD19</td>\n",
       "      <td>8.930</td>\n",
       "      <td>Low Fat</td>\n",
       "      <td>0.000000</td>\n",
       "      <td>Household</td>\n",
       "      <td>53.8614</td>\n",
       "      <td>OUT013</td>\n",
       "      <td>1987</td>\n",
       "      <td>High</td>\n",
       "      <td>Tier 3</td>\n",
       "      <td>Supermarket Type1</td>\n",
       "      <td>994.7052</td>\n",
       "    </tr>\n",
       "    <tr>\n",
       "      <th>...</th>\n",
       "      <td>...</td>\n",
       "      <td>...</td>\n",
       "      <td>...</td>\n",
       "      <td>...</td>\n",
       "      <td>...</td>\n",
       "      <td>...</td>\n",
       "      <td>...</td>\n",
       "      <td>...</td>\n",
       "      <td>...</td>\n",
       "      <td>...</td>\n",
       "      <td>...</td>\n",
       "      <td>...</td>\n",
       "    </tr>\n",
       "    <tr>\n",
       "      <th>8518</th>\n",
       "      <td>FDF22</td>\n",
       "      <td>6.865</td>\n",
       "      <td>Low Fat</td>\n",
       "      <td>0.056783</td>\n",
       "      <td>Snack Foods</td>\n",
       "      <td>214.5218</td>\n",
       "      <td>OUT013</td>\n",
       "      <td>1987</td>\n",
       "      <td>High</td>\n",
       "      <td>Tier 3</td>\n",
       "      <td>Supermarket Type1</td>\n",
       "      <td>2778.3834</td>\n",
       "    </tr>\n",
       "    <tr>\n",
       "      <th>8519</th>\n",
       "      <td>FDS36</td>\n",
       "      <td>8.380</td>\n",
       "      <td>Regular</td>\n",
       "      <td>0.046982</td>\n",
       "      <td>Baking Goods</td>\n",
       "      <td>108.1570</td>\n",
       "      <td>OUT045</td>\n",
       "      <td>2002</td>\n",
       "      <td>NaN</td>\n",
       "      <td>Tier 2</td>\n",
       "      <td>Supermarket Type1</td>\n",
       "      <td>549.2850</td>\n",
       "    </tr>\n",
       "    <tr>\n",
       "      <th>8520</th>\n",
       "      <td>NCJ29</td>\n",
       "      <td>10.600</td>\n",
       "      <td>Low Fat</td>\n",
       "      <td>0.035186</td>\n",
       "      <td>Health and Hygiene</td>\n",
       "      <td>85.1224</td>\n",
       "      <td>OUT035</td>\n",
       "      <td>2004</td>\n",
       "      <td>Small</td>\n",
       "      <td>Tier 2</td>\n",
       "      <td>Supermarket Type1</td>\n",
       "      <td>1193.1136</td>\n",
       "    </tr>\n",
       "    <tr>\n",
       "      <th>8521</th>\n",
       "      <td>FDN46</td>\n",
       "      <td>7.210</td>\n",
       "      <td>Regular</td>\n",
       "      <td>0.145221</td>\n",
       "      <td>Snack Foods</td>\n",
       "      <td>103.1332</td>\n",
       "      <td>OUT018</td>\n",
       "      <td>2009</td>\n",
       "      <td>Medium</td>\n",
       "      <td>Tier 3</td>\n",
       "      <td>Supermarket Type2</td>\n",
       "      <td>1845.5976</td>\n",
       "    </tr>\n",
       "    <tr>\n",
       "      <th>8522</th>\n",
       "      <td>DRG01</td>\n",
       "      <td>14.800</td>\n",
       "      <td>Low Fat</td>\n",
       "      <td>0.044878</td>\n",
       "      <td>Soft Drinks</td>\n",
       "      <td>75.4670</td>\n",
       "      <td>OUT046</td>\n",
       "      <td>1997</td>\n",
       "      <td>Small</td>\n",
       "      <td>Tier 1</td>\n",
       "      <td>Supermarket Type1</td>\n",
       "      <td>765.6700</td>\n",
       "    </tr>\n",
       "  </tbody>\n",
       "</table>\n",
       "<p>8523 rows × 12 columns</p>\n",
       "</div>"
      ],
      "text/plain": [
       "     Item_Identifier  Item_Weight Item_Fat_Content  Item_Visibility  \\\n",
       "0              FDA15        9.300          Low Fat         0.016047   \n",
       "1              DRC01        5.920          Regular         0.019278   \n",
       "2              FDN15       17.500          Low Fat         0.016760   \n",
       "3              FDX07       19.200          Regular         0.000000   \n",
       "4              NCD19        8.930          Low Fat         0.000000   \n",
       "...              ...          ...              ...              ...   \n",
       "8518           FDF22        6.865          Low Fat         0.056783   \n",
       "8519           FDS36        8.380          Regular         0.046982   \n",
       "8520           NCJ29       10.600          Low Fat         0.035186   \n",
       "8521           FDN46        7.210          Regular         0.145221   \n",
       "8522           DRG01       14.800          Low Fat         0.044878   \n",
       "\n",
       "                  Item_Type  Item_MRP Outlet_Identifier  \\\n",
       "0                     Dairy  249.8092            OUT049   \n",
       "1               Soft Drinks   48.2692            OUT018   \n",
       "2                      Meat  141.6180            OUT049   \n",
       "3     Fruits and Vegetables  182.0950            OUT010   \n",
       "4                 Household   53.8614            OUT013   \n",
       "...                     ...       ...               ...   \n",
       "8518            Snack Foods  214.5218            OUT013   \n",
       "8519           Baking Goods  108.1570            OUT045   \n",
       "8520     Health and Hygiene   85.1224            OUT035   \n",
       "8521            Snack Foods  103.1332            OUT018   \n",
       "8522            Soft Drinks   75.4670            OUT046   \n",
       "\n",
       "      Outlet_Establishment_Year Outlet_Size Outlet_Location_Type  \\\n",
       "0                          1999      Medium               Tier 1   \n",
       "1                          2009      Medium               Tier 3   \n",
       "2                          1999      Medium               Tier 1   \n",
       "3                          1998         NaN               Tier 3   \n",
       "4                          1987        High               Tier 3   \n",
       "...                         ...         ...                  ...   \n",
       "8518                       1987        High               Tier 3   \n",
       "8519                       2002         NaN               Tier 2   \n",
       "8520                       2004       Small               Tier 2   \n",
       "8521                       2009      Medium               Tier 3   \n",
       "8522                       1997       Small               Tier 1   \n",
       "\n",
       "            Outlet_Type  Item_Outlet_Sales  \n",
       "0     Supermarket Type1          3735.1380  \n",
       "1     Supermarket Type2           443.4228  \n",
       "2     Supermarket Type1          2097.2700  \n",
       "3         Grocery Store           732.3800  \n",
       "4     Supermarket Type1           994.7052  \n",
       "...                 ...                ...  \n",
       "8518  Supermarket Type1          2778.3834  \n",
       "8519  Supermarket Type1           549.2850  \n",
       "8520  Supermarket Type1          1193.1136  \n",
       "8521  Supermarket Type2          1845.5976  \n",
       "8522  Supermarket Type1           765.6700  \n",
       "\n",
       "[8523 rows x 12 columns]"
      ]
     },
     "execution_count": 1,
     "metadata": {},
     "output_type": "execute_result"
    }
   ],
   "source": [
    "import pandas as pd\n",
    "A = pd.read_csv(\"C:/Users/Asus/Downloads/Train (big mart).csv\")\n",
    "A"
   ]
  },
  {
   "cell_type": "code",
   "execution_count": 2,
   "id": "1647cd5e",
   "metadata": {},
   "outputs": [
    {
     "name": "stdout",
     "output_type": "stream",
     "text": [
      "<class 'pandas.core.frame.DataFrame'>\n",
      "RangeIndex: 8523 entries, 0 to 8522\n",
      "Data columns (total 12 columns):\n",
      " #   Column                     Non-Null Count  Dtype  \n",
      "---  ------                     --------------  -----  \n",
      " 0   Item_Identifier            8523 non-null   object \n",
      " 1   Item_Weight                7060 non-null   float64\n",
      " 2   Item_Fat_Content           8523 non-null   object \n",
      " 3   Item_Visibility            8523 non-null   float64\n",
      " 4   Item_Type                  8523 non-null   object \n",
      " 5   Item_MRP                   8523 non-null   float64\n",
      " 6   Outlet_Identifier          8523 non-null   object \n",
      " 7   Outlet_Establishment_Year  8523 non-null   int64  \n",
      " 8   Outlet_Size                6113 non-null   object \n",
      " 9   Outlet_Location_Type       8523 non-null   object \n",
      " 10  Outlet_Type                8523 non-null   object \n",
      " 11  Item_Outlet_Sales          8523 non-null   float64\n",
      "dtypes: float64(4), int64(1), object(7)\n",
      "memory usage: 799.2+ KB\n"
     ]
    }
   ],
   "source": [
    "A.info()"
   ]
  },
  {
   "cell_type": "code",
   "execution_count": 3,
   "id": "3209e06f",
   "metadata": {},
   "outputs": [
    {
     "data": {
      "text/plain": [
       "Item_Identifier                 0\n",
       "Item_Weight                  1463\n",
       "Item_Fat_Content                0\n",
       "Item_Visibility                 0\n",
       "Item_Type                       0\n",
       "Item_MRP                        0\n",
       "Outlet_Identifier               0\n",
       "Outlet_Establishment_Year       0\n",
       "Outlet_Size                  2410\n",
       "Outlet_Location_Type            0\n",
       "Outlet_Type                     0\n",
       "Item_Outlet_Sales               0\n",
       "dtype: int64"
      ]
     },
     "execution_count": 3,
     "metadata": {},
     "output_type": "execute_result"
    }
   ],
   "source": [
    "A.isna().sum()"
   ]
  },
  {
   "cell_type": "code",
   "execution_count": 4,
   "id": "b4dd4666",
   "metadata": {},
   "outputs": [],
   "source": [
    "from PM6 import replacer\n",
    "replacer(A)"
   ]
  },
  {
   "cell_type": "code",
   "execution_count": 5,
   "id": "480c7052",
   "metadata": {},
   "outputs": [
    {
     "data": {
      "text/plain": [
       "Item_Identifier              0\n",
       "Item_Weight                  0\n",
       "Item_Fat_Content             0\n",
       "Item_Visibility              0\n",
       "Item_Type                    0\n",
       "Item_MRP                     0\n",
       "Outlet_Identifier            0\n",
       "Outlet_Establishment_Year    0\n",
       "Outlet_Size                  0\n",
       "Outlet_Location_Type         0\n",
       "Outlet_Type                  0\n",
       "Item_Outlet_Sales            0\n",
       "dtype: int64"
      ]
     },
     "execution_count": 5,
     "metadata": {},
     "output_type": "execute_result"
    }
   ],
   "source": [
    "A.isna().sum()"
   ]
  },
  {
   "cell_type": "code",
   "execution_count": 6,
   "id": "8eb2598a",
   "metadata": {},
   "outputs": [],
   "source": [
    "Y = A[[\"Item_Outlet_Sales\"]]"
   ]
  },
  {
   "cell_type": "code",
   "execution_count": 7,
   "id": "6c2da656",
   "metadata": {},
   "outputs": [
    {
     "data": {
      "text/plain": [
       "Item_Weight                  0.011550\n",
       "Item_Visibility             -0.128625\n",
       "Item_MRP                     0.567574\n",
       "Outlet_Establishment_Year   -0.049135\n",
       "Item_Outlet_Sales            1.000000\n",
       "Name: Item_Outlet_Sales, dtype: float64"
      ]
     },
     "execution_count": 7,
     "metadata": {},
     "output_type": "execute_result"
    }
   ],
   "source": [
    "A.corr()[\"Item_Outlet_Sales\"]"
   ]
  },
  {
   "cell_type": "code",
   "execution_count": 8,
   "id": "119dbc82",
   "metadata": {},
   "outputs": [],
   "source": [
    "X = A.drop(columns = [\"Item_Weight\",\"Item_Visibility\",\"Outlet_Establishment_Year\",\"Item_Outlet_Sales\",\"Item_Identifier\",\"Item_Fat_Content\"])"
   ]
  },
  {
   "cell_type": "code",
   "execution_count": 9,
   "id": "3e15fa25",
   "metadata": {},
   "outputs": [],
   "source": [
    "\n",
    "\n",
    "from PM6 import preprocessing\n",
    "Xnew = preprocessing(X)"
   ]
  },
  {
   "cell_type": "code",
   "execution_count": 10,
   "id": "3d09960a",
   "metadata": {},
   "outputs": [
    {
     "data": {
      "text/html": [
       "<table class=\"simpletable\">\n",
       "<caption>OLS Regression Results</caption>\n",
       "<tr>\n",
       "  <th>Dep. Variable:</th>    <td>Item_Outlet_Sales</td> <th>  R-squared:         </th> <td>   0.564</td> \n",
       "</tr>\n",
       "<tr>\n",
       "  <th>Model:</th>                   <td>OLS</td>        <th>  Adj. R-squared:    </th> <td>   0.563</td> \n",
       "</tr>\n",
       "<tr>\n",
       "  <th>Method:</th>             <td>Least Squares</td>   <th>  F-statistic:       </th> <td>   351.8</td> \n",
       "</tr>\n",
       "<tr>\n",
       "  <th>Date:</th>             <td>Thu, 08 Sep 2022</td>  <th>  Prob (F-statistic):</th>  <td>  0.00</td>  \n",
       "</tr>\n",
       "<tr>\n",
       "  <th>Time:</th>                 <td>10:33:26</td>      <th>  Log-Likelihood:    </th> <td> -57595.</td> \n",
       "</tr>\n",
       "<tr>\n",
       "  <th>No. Observations:</th>      <td>  6818</td>       <th>  AIC:               </th> <td>1.152e+05</td>\n",
       "</tr>\n",
       "<tr>\n",
       "  <th>Df Residuals:</th>          <td>  6792</td>       <th>  BIC:               </th> <td>1.154e+05</td>\n",
       "</tr>\n",
       "<tr>\n",
       "  <th>Df Model:</th>              <td>    25</td>       <th>                     </th>     <td> </td>    \n",
       "</tr>\n",
       "<tr>\n",
       "  <th>Covariance Type:</th>      <td>nonrobust</td>     <th>                     </th>     <td> </td>    \n",
       "</tr>\n",
       "</table>\n",
       "<table class=\"simpletable\">\n",
       "<tr>\n",
       "                 <td></td>                    <th>coef</th>     <th>std err</th>      <th>t</th>      <th>P>|t|</th>  <th>[0.025</th>    <th>0.975]</th>  \n",
       "</tr>\n",
       "<tr>\n",
       "  <th>const</th>                           <td>  868.1363</td> <td>    9.911</td> <td>   87.593</td> <td> 0.000</td> <td>  848.708</td> <td>  887.565</td>\n",
       "</tr>\n",
       "<tr>\n",
       "  <th>Item_MRP</th>                        <td>  968.5792</td> <td>   13.741</td> <td>   70.488</td> <td> 0.000</td> <td>  941.642</td> <td>  995.516</td>\n",
       "</tr>\n",
       "<tr>\n",
       "  <th>Item_Type_Baking Goods</th>          <td>   47.4822</td> <td>   50.142</td> <td>    0.947</td> <td> 0.344</td> <td>  -50.811</td> <td>  145.775</td>\n",
       "</tr>\n",
       "<tr>\n",
       "  <th>Item_Type_Breads</th>                <td>   47.6871</td> <td>   78.358</td> <td>    0.609</td> <td> 0.543</td> <td> -105.920</td> <td>  201.294</td>\n",
       "</tr>\n",
       "<tr>\n",
       "  <th>Item_Type_Breakfast</th>             <td>   50.0882</td> <td>  114.562</td> <td>    0.437</td> <td> 0.662</td> <td> -174.490</td> <td>  274.666</td>\n",
       "</tr>\n",
       "<tr>\n",
       "  <th>Item_Type_Canned</th>                <td>   94.0987</td> <td>   49.706</td> <td>    1.893</td> <td> 0.058</td> <td>   -3.340</td> <td>  191.538</td>\n",
       "</tr>\n",
       "<tr>\n",
       "  <th>Item_Type_Dairy</th>                 <td>   11.7911</td> <td>   49.214</td> <td>    0.240</td> <td> 0.811</td> <td>  -84.684</td> <td>  108.266</td>\n",
       "</tr>\n",
       "<tr>\n",
       "  <th>Item_Type_Frozen Foods</th>          <td>   50.2259</td> <td>   44.552</td> <td>    1.127</td> <td> 0.260</td> <td>  -37.110</td> <td>  137.562</td>\n",
       "</tr>\n",
       "<tr>\n",
       "  <th>Item_Type_Fruits and Vegetables</th> <td>   72.2033</td> <td>   38.575</td> <td>    1.872</td> <td> 0.061</td> <td>   -3.416</td> <td>  147.823</td>\n",
       "</tr>\n",
       "<tr>\n",
       "  <th>Item_Type_Hard Drinks</th>           <td>   -2.5560</td> <td>   84.898</td> <td>   -0.030</td> <td> 0.976</td> <td> -168.983</td> <td>  163.871</td>\n",
       "</tr>\n",
       "<tr>\n",
       "  <th>Item_Type_Health and Hygiene</th>    <td>   51.7862</td> <td>   55.874</td> <td>    0.927</td> <td> 0.354</td> <td>  -57.744</td> <td>  161.317</td>\n",
       "</tr>\n",
       "<tr>\n",
       "  <th>Item_Type_Household</th>             <td>   15.1015</td> <td>   43.894</td> <td>    0.344</td> <td> 0.731</td> <td>  -70.945</td> <td>  101.148</td>\n",
       "</tr>\n",
       "<tr>\n",
       "  <th>Item_Type_Meat</th>                  <td>   53.6391</td> <td>   59.986</td> <td>    0.894</td> <td> 0.371</td> <td>  -63.951</td> <td>  171.230</td>\n",
       "</tr>\n",
       "<tr>\n",
       "  <th>Item_Type_Others</th>                <td>   -4.5318</td> <td>   93.149</td> <td>   -0.049</td> <td> 0.961</td> <td> -187.134</td> <td>  178.070</td>\n",
       "</tr>\n",
       "<tr>\n",
       "  <th>Item_Type_Seafood</th>               <td>  279.4013</td> <td>  141.640</td> <td>    1.973</td> <td> 0.049</td> <td>    1.743</td> <td>  557.060</td>\n",
       "</tr>\n",
       "<tr>\n",
       "  <th>Item_Type_Snack Foods</th>           <td>   60.1520</td> <td>   38.998</td> <td>    1.542</td> <td> 0.123</td> <td>  -16.296</td> <td>  136.600</td>\n",
       "</tr>\n",
       "<tr>\n",
       "  <th>Item_Type_Soft Drinks</th>           <td>   21.9073</td> <td>   59.614</td> <td>    0.367</td> <td> 0.713</td> <td>  -94.954</td> <td>  138.769</td>\n",
       "</tr>\n",
       "<tr>\n",
       "  <th>Item_Type_Starchy Foods</th>         <td>   19.6602</td> <td>   95.223</td> <td>    0.206</td> <td> 0.836</td> <td> -167.007</td> <td>  206.327</td>\n",
       "</tr>\n",
       "<tr>\n",
       "  <th>Outlet_Identifier_OUT010</th>        <td> -657.7939</td> <td>   28.623</td> <td>  -22.982</td> <td> 0.000</td> <td> -713.903</td> <td> -601.685</td>\n",
       "</tr>\n",
       "<tr>\n",
       "  <th>Outlet_Identifier_OUT013</th>        <td>  117.3857</td> <td>   14.694</td> <td>    7.989</td> <td> 0.000</td> <td>   88.580</td> <td>  146.191</td>\n",
       "</tr>\n",
       "<tr>\n",
       "  <th>Outlet_Identifier_OUT017</th>        <td>   57.7313</td> <td>   32.720</td> <td>    1.764</td> <td> 0.078</td> <td>   -6.411</td> <td>  121.874</td>\n",
       "</tr>\n",
       "<tr>\n",
       "  <th>Outlet_Identifier_OUT018</th>        <td>   62.4837</td> <td>   18.085</td> <td>    3.455</td> <td> 0.001</td> <td>   27.032</td> <td>   97.935</td>\n",
       "</tr>\n",
       "<tr>\n",
       "  <th>Outlet_Identifier_OUT019</th>        <td> -172.6503</td> <td>   27.170</td> <td>   -6.354</td> <td> 0.000</td> <td> -225.913</td> <td> -119.388</td>\n",
       "</tr>\n",
       "<tr>\n",
       "  <th>Outlet_Identifier_OUT027</th>        <td>  943.4580</td> <td>   18.221</td> <td>   51.779</td> <td> 0.000</td> <td>  907.739</td> <td>  979.177</td>\n",
       "</tr>\n",
       "<tr>\n",
       "  <th>Outlet_Identifier_OUT035</th>        <td>  286.6978</td> <td>   26.134</td> <td>   10.970</td> <td> 0.000</td> <td>  235.467</td> <td>  337.928</td>\n",
       "</tr>\n",
       "<tr>\n",
       "  <th>Outlet_Identifier_OUT045</th>        <td>  -95.4603</td> <td>   32.553</td> <td>   -2.932</td> <td> 0.003</td> <td> -159.274</td> <td>  -31.647</td>\n",
       "</tr>\n",
       "<tr>\n",
       "  <th>Outlet_Identifier_OUT046</th>        <td>  182.8705</td> <td>   29.487</td> <td>    6.202</td> <td> 0.000</td> <td>  125.067</td> <td>  240.674</td>\n",
       "</tr>\n",
       "<tr>\n",
       "  <th>Outlet_Identifier_OUT049</th>        <td>  143.4137</td> <td>   24.923</td> <td>    5.754</td> <td> 0.000</td> <td>   94.557</td> <td>  192.270</td>\n",
       "</tr>\n",
       "<tr>\n",
       "  <th>Outlet_Size_High</th>                <td>  117.3857</td> <td>   14.694</td> <td>    7.989</td> <td> 0.000</td> <td>   88.580</td> <td>  146.191</td>\n",
       "</tr>\n",
       "<tr>\n",
       "  <th>Outlet_Size_Medium</th>              <td>  453.8326</td> <td>   14.116</td> <td>   32.150</td> <td> 0.000</td> <td>  426.161</td> <td>  481.504</td>\n",
       "</tr>\n",
       "<tr>\n",
       "  <th>Outlet_Size_Small</th>               <td>  296.9180</td> <td>   15.278</td> <td>   19.435</td> <td> 0.000</td> <td>  266.969</td> <td>  326.867</td>\n",
       "</tr>\n",
       "<tr>\n",
       "  <th>Outlet_Location_Type_Tier 1</th>     <td>  153.6339</td> <td>   16.027</td> <td>    9.586</td> <td> 0.000</td> <td>  122.216</td> <td>  185.051</td>\n",
       "</tr>\n",
       "<tr>\n",
       "  <th>Outlet_Location_Type_Tier 2</th>     <td>  248.9688</td> <td>   14.612</td> <td>   17.038</td> <td> 0.000</td> <td>  220.324</td> <td>  277.614</td>\n",
       "</tr>\n",
       "<tr>\n",
       "  <th>Outlet_Location_Type_Tier 3</th>     <td>  465.5335</td> <td>   14.509</td> <td>   32.086</td> <td> 0.000</td> <td>  437.092</td> <td>  493.975</td>\n",
       "</tr>\n",
       "<tr>\n",
       "  <th>Outlet_Type_Grocery Store</th>       <td> -830.4442</td> <td>   21.037</td> <td>  -39.476</td> <td> 0.000</td> <td> -871.683</td> <td> -789.206</td>\n",
       "</tr>\n",
       "<tr>\n",
       "  <th>Outlet_Type_Supermarket Type1</th>   <td>  692.6387</td> <td>   14.636</td> <td>   47.325</td> <td> 0.000</td> <td>  663.948</td> <td>  721.330</td>\n",
       "</tr>\n",
       "<tr>\n",
       "  <th>Outlet_Type_Supermarket Type2</th>   <td>   62.4837</td> <td>   18.085</td> <td>    3.455</td> <td> 0.001</td> <td>   27.032</td> <td>   97.935</td>\n",
       "</tr>\n",
       "<tr>\n",
       "  <th>Outlet_Type_Supermarket Type3</th>   <td>  943.4580</td> <td>   18.221</td> <td>   51.779</td> <td> 0.000</td> <td>  907.739</td> <td>  979.177</td>\n",
       "</tr>\n",
       "</table>\n",
       "<table class=\"simpletable\">\n",
       "<tr>\n",
       "  <th>Omnibus:</th>       <td>815.157</td> <th>  Durbin-Watson:     </th> <td>   2.010</td>\n",
       "</tr>\n",
       "<tr>\n",
       "  <th>Prob(Omnibus):</th> <td> 0.000</td>  <th>  Jarque-Bera (JB):  </th> <td>2057.194</td>\n",
       "</tr>\n",
       "<tr>\n",
       "  <th>Skew:</th>          <td> 0.684</td>  <th>  Prob(JB):          </th> <td>    0.00</td>\n",
       "</tr>\n",
       "<tr>\n",
       "  <th>Kurtosis:</th>      <td> 5.317</td>  <th>  Cond. No.          </th> <td>1.31e+16</td>\n",
       "</tr>\n",
       "</table><br/><br/>Notes:<br/>[1] Standard Errors assume that the covariance matrix of the errors is correctly specified.<br/>[2] The smallest eigenvalue is 9.98e-29. This might indicate that there are<br/>strong multicollinearity problems or that the design matrix is singular."
      ],
      "text/plain": [
       "<class 'statsmodels.iolib.summary.Summary'>\n",
       "\"\"\"\n",
       "                            OLS Regression Results                            \n",
       "==============================================================================\n",
       "Dep. Variable:      Item_Outlet_Sales   R-squared:                       0.564\n",
       "Model:                            OLS   Adj. R-squared:                  0.563\n",
       "Method:                 Least Squares   F-statistic:                     351.8\n",
       "Date:                Thu, 08 Sep 2022   Prob (F-statistic):               0.00\n",
       "Time:                        10:33:26   Log-Likelihood:                -57595.\n",
       "No. Observations:                6818   AIC:                         1.152e+05\n",
       "Df Residuals:                    6792   BIC:                         1.154e+05\n",
       "Df Model:                          25                                         \n",
       "Covariance Type:            nonrobust                                         \n",
       "===================================================================================================\n",
       "                                      coef    std err          t      P>|t|      [0.025      0.975]\n",
       "---------------------------------------------------------------------------------------------------\n",
       "const                             868.1363      9.911     87.593      0.000     848.708     887.565\n",
       "Item_MRP                          968.5792     13.741     70.488      0.000     941.642     995.516\n",
       "Item_Type_Baking Goods             47.4822     50.142      0.947      0.344     -50.811     145.775\n",
       "Item_Type_Breads                   47.6871     78.358      0.609      0.543    -105.920     201.294\n",
       "Item_Type_Breakfast                50.0882    114.562      0.437      0.662    -174.490     274.666\n",
       "Item_Type_Canned                   94.0987     49.706      1.893      0.058      -3.340     191.538\n",
       "Item_Type_Dairy                    11.7911     49.214      0.240      0.811     -84.684     108.266\n",
       "Item_Type_Frozen Foods             50.2259     44.552      1.127      0.260     -37.110     137.562\n",
       "Item_Type_Fruits and Vegetables    72.2033     38.575      1.872      0.061      -3.416     147.823\n",
       "Item_Type_Hard Drinks              -2.5560     84.898     -0.030      0.976    -168.983     163.871\n",
       "Item_Type_Health and Hygiene       51.7862     55.874      0.927      0.354     -57.744     161.317\n",
       "Item_Type_Household                15.1015     43.894      0.344      0.731     -70.945     101.148\n",
       "Item_Type_Meat                     53.6391     59.986      0.894      0.371     -63.951     171.230\n",
       "Item_Type_Others                   -4.5318     93.149     -0.049      0.961    -187.134     178.070\n",
       "Item_Type_Seafood                 279.4013    141.640      1.973      0.049       1.743     557.060\n",
       "Item_Type_Snack Foods              60.1520     38.998      1.542      0.123     -16.296     136.600\n",
       "Item_Type_Soft Drinks              21.9073     59.614      0.367      0.713     -94.954     138.769\n",
       "Item_Type_Starchy Foods            19.6602     95.223      0.206      0.836    -167.007     206.327\n",
       "Outlet_Identifier_OUT010         -657.7939     28.623    -22.982      0.000    -713.903    -601.685\n",
       "Outlet_Identifier_OUT013          117.3857     14.694      7.989      0.000      88.580     146.191\n",
       "Outlet_Identifier_OUT017           57.7313     32.720      1.764      0.078      -6.411     121.874\n",
       "Outlet_Identifier_OUT018           62.4837     18.085      3.455      0.001      27.032      97.935\n",
       "Outlet_Identifier_OUT019         -172.6503     27.170     -6.354      0.000    -225.913    -119.388\n",
       "Outlet_Identifier_OUT027          943.4580     18.221     51.779      0.000     907.739     979.177\n",
       "Outlet_Identifier_OUT035          286.6978     26.134     10.970      0.000     235.467     337.928\n",
       "Outlet_Identifier_OUT045          -95.4603     32.553     -2.932      0.003    -159.274     -31.647\n",
       "Outlet_Identifier_OUT046          182.8705     29.487      6.202      0.000     125.067     240.674\n",
       "Outlet_Identifier_OUT049          143.4137     24.923      5.754      0.000      94.557     192.270\n",
       "Outlet_Size_High                  117.3857     14.694      7.989      0.000      88.580     146.191\n",
       "Outlet_Size_Medium                453.8326     14.116     32.150      0.000     426.161     481.504\n",
       "Outlet_Size_Small                 296.9180     15.278     19.435      0.000     266.969     326.867\n",
       "Outlet_Location_Type_Tier 1       153.6339     16.027      9.586      0.000     122.216     185.051\n",
       "Outlet_Location_Type_Tier 2       248.9688     14.612     17.038      0.000     220.324     277.614\n",
       "Outlet_Location_Type_Tier 3       465.5335     14.509     32.086      0.000     437.092     493.975\n",
       "Outlet_Type_Grocery Store        -830.4442     21.037    -39.476      0.000    -871.683    -789.206\n",
       "Outlet_Type_Supermarket Type1     692.6387     14.636     47.325      0.000     663.948     721.330\n",
       "Outlet_Type_Supermarket Type2      62.4837     18.085      3.455      0.001      27.032      97.935\n",
       "Outlet_Type_Supermarket Type3     943.4580     18.221     51.779      0.000     907.739     979.177\n",
       "==============================================================================\n",
       "Omnibus:                      815.157   Durbin-Watson:                   2.010\n",
       "Prob(Omnibus):                  0.000   Jarque-Bera (JB):             2057.194\n",
       "Skew:                           0.684   Prob(JB):                         0.00\n",
       "Kurtosis:                       5.317   Cond. No.                     1.31e+16\n",
       "==============================================================================\n",
       "\n",
       "Notes:\n",
       "[1] Standard Errors assume that the covariance matrix of the errors is correctly specified.\n",
       "[2] The smallest eigenvalue is 9.98e-29. This might indicate that there are\n",
       "strong multicollinearity problems or that the design matrix is singular.\n",
       "\"\"\""
      ]
     },
     "execution_count": 10,
     "metadata": {},
     "output_type": "execute_result"
    }
   ],
   "source": [
    "from sklearn.model_selection import train_test_split\n",
    "xtrain,xtest,ytrain,ytest = train_test_split(Xnew,Y,test_size = 0.2,random_state = 21)\n",
    "\n",
    "from statsmodels.api import OLS,add_constant\n",
    "xconst = add_constant(xtrain)\n",
    "ols = OLS(ytrain,xconst)\n",
    "model = ols.fit()\n",
    "model.summary()\n"
   ]
  },
  {
   "cell_type": "code",
   "execution_count": 11,
   "id": "5e813e01",
   "metadata": {},
   "outputs": [
    {
     "name": "stdout",
     "output_type": "stream",
     "text": [
      "dropped_column: Item_Type_Hard Drinks\n",
      "0.5626726334571719\n",
      "0.5642764451285187\n"
     ]
    }
   ],
   "source": [
    "from warnings import filterwarnings\n",
    "filterwarnings(\"ignore\")\n",
    "\n",
    "drop_cols = list(model.pvalues.sort_values().index)[-1]\n",
    "print(\"dropped_column:\",drop_cols)\n",
    "Xnew = Xnew.drop(labels=[drop_cols],axis=1)\n",
    "xtrain,xtest,ytrain,ytest = train_test_split(Xnew,Y,test_size = 0.2,random_state = 21)\n",
    "\n",
    "from statsmodels.api import OLS,add_constant\n",
    "xconst = add_constant(xtrain)\n",
    "ols = OLS(ytrain,xconst)\n",
    "model = ols.fit()\n",
    "print(model.rsquared_adj)\n",
    "print(model.rsquared)"
   ]
  },
  {
   "cell_type": "code",
   "execution_count": 12,
   "id": "eef6f479",
   "metadata": {},
   "outputs": [
    {
     "name": "stdout",
     "output_type": "stream",
     "text": [
      "dropped_column: Item_Type_Others\n",
      "0.562736998040525\n",
      "0.5642764306424067\n"
     ]
    }
   ],
   "source": [
    "drop_cols = list(model.pvalues.sort_values().index)[-1]\n",
    "print(\"dropped_column:\",drop_cols)\n",
    "Xnew = Xnew.drop(labels=[drop_cols],axis=1)\n",
    "xtrain,xtest,ytrain,ytest = train_test_split(Xnew,Y,test_size = 0.2,random_state = 21)\n",
    "\n",
    "from statsmodels.api import OLS,add_constant\n",
    "xconst = add_constant(xtrain)\n",
    "ols = OLS(ytrain,xconst)\n",
    "model = ols.fit()\n",
    "print(model.rsquared_adj)\n",
    "print(model.rsquared)"
   ]
  },
  {
   "cell_type": "code",
   "execution_count": 13,
   "id": "8d925f49",
   "metadata": {},
   "outputs": [
    {
     "name": "stdout",
     "output_type": "stream",
     "text": [
      "dropped_column: Item_Type_Dairy\n",
      "0.5627991074539431\n",
      "0.5642741874786694\n"
     ]
    }
   ],
   "source": [
    "drop_cols = list(model.pvalues.sort_values().index)[-1]\n",
    "print(\"dropped_column:\",drop_cols)\n",
    "Xnew = Xnew.drop(labels=[drop_cols],axis=1)\n",
    "xtrain,xtest,ytrain,ytest = train_test_split(Xnew,Y,test_size = 0.2,random_state = 21)\n",
    "\n",
    "from statsmodels.api import OLS,add_constant\n",
    "xconst = add_constant(xtrain)\n",
    "ols = OLS(ytrain,xconst)\n",
    "model = ols.fit()\n",
    "print(model.rsquared_adj)\n",
    "print(model.rsquared)"
   ]
  },
  {
   "cell_type": "code",
   "execution_count": 14,
   "id": "c60a3a64",
   "metadata": {},
   "outputs": [
    {
     "name": "stdout",
     "output_type": "stream",
     "text": [
      "dropped_column: Item_Type_Starchy Foods\n",
      "0.5628624576122377\n",
      "0.5642731992775643\n"
     ]
    }
   ],
   "source": [
    "drop_cols = list(model.pvalues.sort_values().index)[-1]\n",
    "print(\"dropped_column:\",drop_cols)\n",
    "Xnew = Xnew.drop(labels=[drop_cols],axis=1)\n",
    "xtrain,xtest,ytrain,ytest = train_test_split(Xnew,Y,test_size = 0.2,random_state = 21)\n",
    "\n",
    "from statsmodels.api import OLS,add_constant\n",
    "xconst = add_constant(xtrain)\n",
    "ols = OLS(ytrain,xconst)\n",
    "model = ols.fit()\n",
    "print(model.rsquared_adj)\n",
    "print(model.rsquared)"
   ]
  },
  {
   "cell_type": "code",
   "execution_count": 15,
   "id": "f0cbd92c",
   "metadata": {},
   "outputs": [
    {
     "name": "stdout",
     "output_type": "stream",
     "text": [
      "dropped_column: Item_Type_Household\n",
      "0.5629257814668995\n",
      "0.5642722034397902\n"
     ]
    }
   ],
   "source": [
    "drop_cols = list(model.pvalues.sort_values().index)[-1]\n",
    "print(\"dropped_column:\",drop_cols)\n",
    "Xnew = Xnew.drop(labels=[drop_cols],axis=1)\n",
    "xtrain,xtest,ytrain,ytest = train_test_split(Xnew,Y,test_size = 0.2,random_state = 21)\n",
    "\n",
    "from statsmodels.api import OLS,add_constant\n",
    "xconst = add_constant(xtrain)\n",
    "ols = OLS(ytrain,xconst)\n",
    "model = ols.fit()\n",
    "print(model.rsquared_adj)\n",
    "print(model.rsquared)"
   ]
  },
  {
   "cell_type": "code",
   "execution_count": 16,
   "id": "f5e1cbf6",
   "metadata": {},
   "outputs": [
    {
     "name": "stdout",
     "output_type": "stream",
     "text": [
      "dropped_column: Item_Type_Soft Drinks\n",
      "0.5629883706400752\n",
      "0.5642704936541868\n"
     ]
    }
   ],
   "source": [
    "drop_cols = list(model.pvalues.sort_values().index)[-1]\n",
    "print(\"dropped_column:\",drop_cols)\n",
    "Xnew = Xnew.drop(labels=[drop_cols],axis=1)\n",
    "xtrain,xtest,ytrain,ytest = train_test_split(Xnew,Y,test_size = 0.2,random_state = 21)\n",
    "\n",
    "from statsmodels.api import OLS,add_constant\n",
    "xconst = add_constant(xtrain)\n",
    "ols = OLS(ytrain,xconst)\n",
    "model = ols.fit()\n",
    "print(model.rsquared_adj)\n",
    "print(model.rsquared)"
   ]
  },
  {
   "cell_type": "code",
   "execution_count": 17,
   "id": "65ae741b",
   "metadata": {},
   "outputs": [
    {
     "name": "stdout",
     "output_type": "stream",
     "text": [
      "dropped_column: Item_Type_Breakfast\n",
      "0.5630468083094122\n",
      "0.5642646622982814\n"
     ]
    }
   ],
   "source": [
    "drop_cols = list(model.pvalues.sort_values().index)[-1]\n",
    "print(\"dropped_column:\",drop_cols)\n",
    "Xnew = Xnew.drop(labels=[drop_cols],axis=1)\n",
    "xtrain,xtest,ytrain,ytest = train_test_split(Xnew,Y,test_size = 0.2,random_state = 21)\n",
    "\n",
    "from statsmodels.api import OLS,add_constant\n",
    "xconst = add_constant(xtrain)\n",
    "ols = OLS(ytrain,xconst)\n",
    "model = ols.fit()\n",
    "print(model.rsquared_adj)\n",
    "print(model.rsquared)"
   ]
  },
  {
   "cell_type": "code",
   "execution_count": 18,
   "id": "5c318208",
   "metadata": {},
   "outputs": [
    {
     "name": "stdout",
     "output_type": "stream",
     "text": [
      "dropped_column: Item_Type_Breads\n",
      "0.5631012229990906\n",
      "0.564254835729913\n"
     ]
    }
   ],
   "source": [
    "drop_cols = list(model.pvalues.sort_values().index)[-1]\n",
    "print(\"dropped_column:\",drop_cols)\n",
    "Xnew = Xnew.drop(labels=[drop_cols],axis=1)\n",
    "xtrain,xtest,ytrain,ytest = train_test_split(Xnew,Y,test_size = 0.2,random_state = 21)\n",
    "\n",
    "from statsmodels.api import OLS,add_constant\n",
    "xconst = add_constant(xtrain)\n",
    "ols = OLS(ytrain,xconst)\n",
    "model = ols.fit()\n",
    "print(model.rsquared_adj)\n",
    "print(model.rsquared)"
   ]
  },
  {
   "cell_type": "code",
   "execution_count": 32,
   "id": "93fd650d",
   "metadata": {},
   "outputs": [
    {
     "name": "stdout",
     "output_type": "stream",
     "text": [
      "dropped_column: Outlet_Identifier_OUT045\n",
      "0.5628925430273917\n",
      "0.5634696248981197\n"
     ]
    }
   ],
   "source": [
    "drop_cols = list(model.pvalues.sort_values().index)[-1]\n",
    "print(\"dropped_column:\",drop_cols)\n",
    "Xnew = Xnew.drop(labels=[drop_cols],axis=1)\n",
    "xtrain,xtest,ytrain,ytest = train_test_split(Xnew,Y,test_size = 0.2,random_state = 21)\n",
    "\n",
    "from statsmodels.api import OLS,add_constant\n",
    "xconst = add_constant(xtrain)\n",
    "ols = OLS(ytrain,xconst)\n",
    "model = ols.fit()\n",
    "print(model.rsquared_adj)\n",
    "print(model.rsquared)"
   ]
  },
  {
   "cell_type": "code",
   "execution_count": 33,
   "id": "2a04b7c3",
   "metadata": {},
   "outputs": [
    {
     "name": "stdout",
     "output_type": "stream",
     "text": [
      "dropped_column: Outlet_Identifier_OUT018\n",
      "0.5628925430273917\n",
      "0.5634696248981197\n"
     ]
    }
   ],
   "source": [
    "drop_cols = list(model.pvalues.sort_values().index)[-1]\n",
    "print(\"dropped_column:\",drop_cols)\n",
    "Xnew = Xnew.drop(labels=[drop_cols],axis=1)\n",
    "xtrain,xtest,ytrain,ytest = train_test_split(Xnew,Y,test_size = 0.2,random_state = 21)\n",
    "\n",
    "from statsmodels.api import OLS,add_constant\n",
    "xconst = add_constant(xtrain)\n",
    "ols = OLS(ytrain,xconst)\n",
    "model = ols.fit()\n",
    "print(model.rsquared_adj)\n",
    "print(model.rsquared)"
   ]
  },
  {
   "cell_type": "code",
   "execution_count": 34,
   "id": "cef15f12",
   "metadata": {},
   "outputs": [
    {
     "name": "stdout",
     "output_type": "stream",
     "text": [
      "dropped_column: Outlet_Type_Supermarket Type2\n",
      "0.5628925430273919\n",
      "0.5634696248981199\n"
     ]
    }
   ],
   "source": [
    "drop_cols = list(model.pvalues.sort_values().index)[-1]\n",
    "print(\"dropped_column:\",drop_cols)\n",
    "Xnew = Xnew.drop(labels=[drop_cols],axis=1)\n",
    "xtrain,xtest,ytrain,ytest = train_test_split(Xnew,Y,test_size = 0.2,random_state = 21)\n",
    "\n",
    "from statsmodels.api import OLS,add_constant\n",
    "xconst = add_constant(xtrain)\n",
    "ols = OLS(ytrain,xconst)\n",
    "model = ols.fit()\n",
    "print(model.rsquared_adj)\n",
    "print(model.rsquared)"
   ]
  },
  {
   "cell_type": "code",
   "execution_count": 35,
   "id": "4fbe220b",
   "metadata": {},
   "outputs": [
    {
     "name": "stdout",
     "output_type": "stream",
     "text": [
      "dropped_column: Outlet_Identifier_OUT049\n",
      "0.5628925430273917\n",
      "0.5634696248981197\n"
     ]
    }
   ],
   "source": [
    "drop_cols = list(model.pvalues.sort_values().index)[-1]\n",
    "print(\"dropped_column:\",drop_cols)\n",
    "Xnew = Xnew.drop(labels=[drop_cols],axis=1)\n",
    "xtrain,xtest,ytrain,ytest= train_test_split(Xnew,Y,test_size = 0.2,random_state = 21)\n",
    "\n",
    "from statsmodels.api import OLS,add_constant\n",
    "xconst = add_constant(xtrain)\n",
    "ols = OLS(ytrain,xconst)\n",
    "model = ols.fit()\n",
    "print(model.rsquared_adj)\n",
    "print(model.rsquared)"
   ]
  },
  {
   "cell_type": "code",
   "execution_count": 36,
   "id": "f3f65b77",
   "metadata": {},
   "outputs": [
    {
     "name": "stdout",
     "output_type": "stream",
     "text": [
      "dropped_column: Outlet_Identifier_OUT046\n",
      "0.5628925430273917\n",
      "0.5634696248981197\n"
     ]
    }
   ],
   "source": [
    "drop_cols = list(model.pvalues.sort_values().index)[-1]\n",
    "print(\"dropped_column:\",drop_cols)\n",
    "Xnew = Xnew.drop(labels=[drop_cols],axis=1)\n",
    "xtrain,xtest,ytrain,ytest= train_test_split(Xnew,Y,test_size = 0.2,random_state = 21)\n",
    "\n",
    "from statsmodels.api import OLS,add_constant\n",
    "xconst = add_constant(xtrain)\n",
    "ols = OLS(ytrain,xconst)\n",
    "model = ols.fit()\n",
    "print(model.rsquared_adj)\n",
    "print(model.rsquared)"
   ]
  },
  {
   "cell_type": "code",
   "execution_count": 37,
   "id": "17c0283d",
   "metadata": {},
   "outputs": [
    {
     "name": "stdout",
     "output_type": "stream",
     "text": [
      "dropped_column: Outlet_Size_High\n",
      "0.5628925430273917\n",
      "0.5634696248981197\n"
     ]
    }
   ],
   "source": [
    "drop_cols = list(model.pvalues.sort_values().index)[-1]\n",
    "print(\"dropped_column:\",drop_cols)\n",
    "Xnew = Xnew.drop(labels=[drop_cols],axis=1)\n",
    "xtrain,xtest,ytrain,ytest= train_test_split(Xnew,Y,test_size = 0.2,random_state = 21)\n",
    "\n",
    "from statsmodels.api import OLS,add_constant\n",
    "xconst = add_constant(xtrain)\n",
    "ols = OLS(ytrain,xconst)\n",
    "model = ols.fit()\n",
    "print(model.rsquared_adj)\n",
    "print(model.rsquared)"
   ]
  },
  {
   "cell_type": "code",
   "execution_count": 38,
   "id": "3de6f599",
   "metadata": {},
   "outputs": [
    {
     "data": {
      "text/plain": [
       "['Item_MRP',\n",
       " 'Outlet_Identifier_OUT010',\n",
       " 'Outlet_Identifier_OUT013',\n",
       " 'Outlet_Identifier_OUT019',\n",
       " 'Outlet_Identifier_OUT027',\n",
       " 'Outlet_Identifier_OUT035',\n",
       " 'Outlet_Size_Medium',\n",
       " 'Outlet_Size_Small',\n",
       " 'Outlet_Location_Type_Tier 1',\n",
       " 'Outlet_Location_Type_Tier 2',\n",
       " 'Outlet_Location_Type_Tier 3',\n",
       " 'Outlet_Type_Grocery Store',\n",
       " 'Outlet_Type_Supermarket Type1',\n",
       " 'Outlet_Type_Supermarket Type3']"
      ]
     },
     "execution_count": 38,
     "metadata": {},
     "output_type": "execute_result"
    }
   ],
   "source": [
    "X1 = list(Xnew.columns)\n",
    "X1"
   ]
  },
  {
   "cell_type": "code",
   "execution_count": 39,
   "id": "a7743196",
   "metadata": {},
   "outputs": [
    {
     "ename": "ValueError",
     "evalue": "Found input variables with inconsistent numbers of samples: [14, 8523]",
     "output_type": "error",
     "traceback": [
      "\u001b[1;31m---------------------------------------------------------------------------\u001b[0m",
      "\u001b[1;31mValueError\u001b[0m                                Traceback (most recent call last)",
      "\u001b[1;32m<ipython-input-39-dada6da217e7>\u001b[0m in \u001b[0;36m<module>\u001b[1;34m\u001b[0m\n\u001b[0;32m      1\u001b[0m \u001b[1;32mfrom\u001b[0m \u001b[0msklearn\u001b[0m\u001b[1;33m.\u001b[0m\u001b[0mmodel_selection\u001b[0m \u001b[1;32mimport\u001b[0m \u001b[0mtrain_test_split\u001b[0m\u001b[1;33m\u001b[0m\u001b[1;33m\u001b[0m\u001b[0m\n\u001b[1;32m----> 2\u001b[1;33m \u001b[0mxtrain\u001b[0m\u001b[1;33m,\u001b[0m\u001b[0mxtest\u001b[0m\u001b[1;33m,\u001b[0m\u001b[0mytrain\u001b[0m\u001b[1;33m,\u001b[0m\u001b[0mytest\u001b[0m\u001b[1;33m=\u001b[0m \u001b[0mtrain_test_split\u001b[0m\u001b[1;33m(\u001b[0m\u001b[0mX1\u001b[0m\u001b[1;33m,\u001b[0m\u001b[0mY\u001b[0m\u001b[1;33m,\u001b[0m\u001b[0mtest_size\u001b[0m\u001b[1;33m=\u001b[0m\u001b[1;36m0.2\u001b[0m\u001b[1;33m,\u001b[0m\u001b[0mrandom_state\u001b[0m\u001b[1;33m=\u001b[0m\u001b[1;36m21\u001b[0m\u001b[1;33m)\u001b[0m\u001b[1;33m\u001b[0m\u001b[1;33m\u001b[0m\u001b[0m\n\u001b[0m\u001b[0;32m      3\u001b[0m \u001b[1;33m\u001b[0m\u001b[0m\n\u001b[0;32m      4\u001b[0m \u001b[1;32mfrom\u001b[0m \u001b[0msklearn\u001b[0m\u001b[1;33m.\u001b[0m\u001b[0mlinear_model\u001b[0m \u001b[1;32mimport\u001b[0m \u001b[0mLinearRegression\u001b[0m\u001b[1;33m\u001b[0m\u001b[1;33m\u001b[0m\u001b[0m\n\u001b[0;32m      5\u001b[0m \u001b[0mlm\u001b[0m \u001b[1;33m=\u001b[0m \u001b[0mLinearRegression\u001b[0m\u001b[1;33m(\u001b[0m\u001b[1;33m)\u001b[0m\u001b[1;33m\u001b[0m\u001b[1;33m\u001b[0m\u001b[0m\n",
      "\u001b[1;32m~\\Anaconda3\\lib\\site-packages\\sklearn\\model_selection\\_split.py\u001b[0m in \u001b[0;36mtrain_test_split\u001b[1;34m(test_size, train_size, random_state, shuffle, stratify, *arrays)\u001b[0m\n\u001b[0;32m   2170\u001b[0m         \u001b[1;32mraise\u001b[0m \u001b[0mValueError\u001b[0m\u001b[1;33m(\u001b[0m\u001b[1;34m\"At least one array required as input\"\u001b[0m\u001b[1;33m)\u001b[0m\u001b[1;33m\u001b[0m\u001b[1;33m\u001b[0m\u001b[0m\n\u001b[0;32m   2171\u001b[0m \u001b[1;33m\u001b[0m\u001b[0m\n\u001b[1;32m-> 2172\u001b[1;33m     \u001b[0marrays\u001b[0m \u001b[1;33m=\u001b[0m \u001b[0mindexable\u001b[0m\u001b[1;33m(\u001b[0m\u001b[1;33m*\u001b[0m\u001b[0marrays\u001b[0m\u001b[1;33m)\u001b[0m\u001b[1;33m\u001b[0m\u001b[1;33m\u001b[0m\u001b[0m\n\u001b[0m\u001b[0;32m   2173\u001b[0m \u001b[1;33m\u001b[0m\u001b[0m\n\u001b[0;32m   2174\u001b[0m     \u001b[0mn_samples\u001b[0m \u001b[1;33m=\u001b[0m \u001b[0m_num_samples\u001b[0m\u001b[1;33m(\u001b[0m\u001b[0marrays\u001b[0m\u001b[1;33m[\u001b[0m\u001b[1;36m0\u001b[0m\u001b[1;33m]\u001b[0m\u001b[1;33m)\u001b[0m\u001b[1;33m\u001b[0m\u001b[1;33m\u001b[0m\u001b[0m\n",
      "\u001b[1;32m~\\Anaconda3\\lib\\site-packages\\sklearn\\utils\\validation.py\u001b[0m in \u001b[0;36mindexable\u001b[1;34m(*iterables)\u001b[0m\n\u001b[0;32m    297\u001b[0m     \"\"\"\n\u001b[0;32m    298\u001b[0m     \u001b[0mresult\u001b[0m \u001b[1;33m=\u001b[0m \u001b[1;33m[\u001b[0m\u001b[0m_make_indexable\u001b[0m\u001b[1;33m(\u001b[0m\u001b[0mX\u001b[0m\u001b[1;33m)\u001b[0m \u001b[1;32mfor\u001b[0m \u001b[0mX\u001b[0m \u001b[1;32min\u001b[0m \u001b[0miterables\u001b[0m\u001b[1;33m]\u001b[0m\u001b[1;33m\u001b[0m\u001b[1;33m\u001b[0m\u001b[0m\n\u001b[1;32m--> 299\u001b[1;33m     \u001b[0mcheck_consistent_length\u001b[0m\u001b[1;33m(\u001b[0m\u001b[1;33m*\u001b[0m\u001b[0mresult\u001b[0m\u001b[1;33m)\u001b[0m\u001b[1;33m\u001b[0m\u001b[1;33m\u001b[0m\u001b[0m\n\u001b[0m\u001b[0;32m    300\u001b[0m     \u001b[1;32mreturn\u001b[0m \u001b[0mresult\u001b[0m\u001b[1;33m\u001b[0m\u001b[1;33m\u001b[0m\u001b[0m\n\u001b[0;32m    301\u001b[0m \u001b[1;33m\u001b[0m\u001b[0m\n",
      "\u001b[1;32m~\\Anaconda3\\lib\\site-packages\\sklearn\\utils\\validation.py\u001b[0m in \u001b[0;36mcheck_consistent_length\u001b[1;34m(*arrays)\u001b[0m\n\u001b[0;32m    260\u001b[0m     \u001b[0muniques\u001b[0m \u001b[1;33m=\u001b[0m \u001b[0mnp\u001b[0m\u001b[1;33m.\u001b[0m\u001b[0munique\u001b[0m\u001b[1;33m(\u001b[0m\u001b[0mlengths\u001b[0m\u001b[1;33m)\u001b[0m\u001b[1;33m\u001b[0m\u001b[1;33m\u001b[0m\u001b[0m\n\u001b[0;32m    261\u001b[0m     \u001b[1;32mif\u001b[0m \u001b[0mlen\u001b[0m\u001b[1;33m(\u001b[0m\u001b[0muniques\u001b[0m\u001b[1;33m)\u001b[0m \u001b[1;33m>\u001b[0m \u001b[1;36m1\u001b[0m\u001b[1;33m:\u001b[0m\u001b[1;33m\u001b[0m\u001b[1;33m\u001b[0m\u001b[0m\n\u001b[1;32m--> 262\u001b[1;33m         raise ValueError(\"Found input variables with inconsistent numbers of\"\n\u001b[0m\u001b[0;32m    263\u001b[0m                          \" samples: %r\" % [int(l) for l in lengths])\n\u001b[0;32m    264\u001b[0m \u001b[1;33m\u001b[0m\u001b[0m\n",
      "\u001b[1;31mValueError\u001b[0m: Found input variables with inconsistent numbers of samples: [14, 8523]"
     ]
    }
   ],
   "source": [
    "from sklearn.model_selection import train_test_split\n",
    "xtrain,xtest,ytrain,ytest= train_test_split(X1,Y,test_size=0.2,random_state=21)\n",
    "\n",
    "from sklearn.linear_model import LinearRegression\n",
    "lm = LinearRegression()\n",
    "model = lm.fit(xtrain,ytrain)\n",
    "pred = model.predict(xtest)\n",
    "\n",
    "from sklearn.metrics import r2_score\n",
    "r2_score(ytest,pred)"
   ]
  },
  {
   "cell_type": "code",
   "execution_count": null,
   "id": "67dae704",
   "metadata": {},
   "outputs": [],
   "source": []
  },
  {
   "cell_type": "code",
   "execution_count": null,
   "id": "8b1264c8",
   "metadata": {},
   "outputs": [],
   "source": []
  }
 ],
 "metadata": {
  "kernelspec": {
   "display_name": "Python 3",
   "language": "python",
   "name": "python3"
  },
  "language_info": {
   "codemirror_mode": {
    "name": "ipython",
    "version": 3
   },
   "file_extension": ".py",
   "mimetype": "text/x-python",
   "name": "python",
   "nbconvert_exporter": "python",
   "pygments_lexer": "ipython3",
   "version": "3.8.8"
  }
 },
 "nbformat": 4,
 "nbformat_minor": 5
}
